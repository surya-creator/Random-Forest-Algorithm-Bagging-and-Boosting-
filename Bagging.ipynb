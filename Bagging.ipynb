{
 "cells": [
  {
   "cell_type": "markdown",
   "metadata": {
    "id": "ci-fSUozbeD1"
   },
   "source": [
    "Introduction"
   ]
  },
  {
   "cell_type": "markdown",
   "metadata": {
    "id": "yK84WSJUbhlg"
   },
   "source": [
    "Random forest is a supervised learning algorithm which is used for both classification as well as regression. But however, it is mainly used for classification problems. As we know that a forest is made up of trees and more trees means more robust forest. Similarly, random forest algorithm creates decision trees on data samples and then gets the prediction from each of them and finally selects the best solution by means of voting. It is an ensemble method which is better than a single decision tree because it reduces the over-fitting by averaging the result."
   ]
  },
  {
   "cell_type": "markdown",
   "metadata": {
    "id": "wFa3oTLAbjxX"
   },
   "source": [
    "Working of Random Forest Algorithm"
   ]
  },
  {
   "cell_type": "markdown",
   "metadata": {
    "id": "5PQEmLIFbmEV"
   },
   "source": [
    "Step 1 − First, start with the selection of random samples from a given dataset.\n",
    "\n"
   ]
  },
  {
   "cell_type": "markdown",
   "metadata": {
    "id": "DyxQmvlcbpC0"
   },
   "source": [
    "Step 2 − Next, this algorithm will construct a decision tree for every sample. Then it will get the prediction result from every decision tree.\n",
    "\n"
   ]
  },
  {
   "cell_type": "markdown",
   "metadata": {
    "id": "U-5HPpSBbqaW"
   },
   "source": [
    "Step 3 − In this step, voting will be performed for every predicted result.\n"
   ]
  },
  {
   "cell_type": "markdown",
   "metadata": {
    "id": "htxOsF2ubuwG"
   },
   "source": [
    "\n",
    "Step 4 − At last, select the most voted prediction result as the final prediction result."
   ]
  },
  {
   "cell_type": "markdown",
   "metadata": {
    "id": "S8066Nz_bxCh"
   },
   "source": [
    "![image.png](data:image/png;base64,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)"
   ]
  },
  {
   "cell_type": "code",
   "execution_count": 1,
   "metadata": {
    "executionInfo": {
     "elapsed": 5,
     "status": "ok",
     "timestamp": 1684893765337,
     "user": {
      "displayName": "Study Corner",
      "userId": "13108580649617945811"
     },
     "user_tz": -330
    },
    "id": "3GDGNVEdqqAu"
   },
   "outputs": [],
   "source": [
    "import pandas as pd\n",
    "import numpy as np"
   ]
  },
  {
   "cell_type": "code",
   "execution_count": 2,
   "metadata": {
    "colab": {
     "base_uri": "https://localhost:8080/",
     "height": 268
    },
    "executionInfo": {
     "elapsed": 415,
     "status": "ok",
     "timestamp": 1684893804406,
     "user": {
      "displayName": "Study Corner",
      "userId": "13108580649617945811"
     },
     "user_tz": -330
    },
    "id": "4l5HUxLLzwzH",
    "outputId": "016c1a81-985b-437b-ffe6-adf03cb373b0"
   },
   "outputs": [
    {
     "data": {
      "text/html": [
       "<div>\n",
       "<style scoped>\n",
       "    .dataframe tbody tr th:only-of-type {\n",
       "        vertical-align: middle;\n",
       "    }\n",
       "\n",
       "    .dataframe tbody tr th {\n",
       "        vertical-align: top;\n",
       "    }\n",
       "\n",
       "    .dataframe thead th {\n",
       "        text-align: right;\n",
       "    }\n",
       "</style>\n",
       "<table border=\"1\" class=\"dataframe\">\n",
       "  <thead>\n",
       "    <tr style=\"text-align: right;\">\n",
       "      <th></th>\n",
       "      <th>Sepal.Length</th>\n",
       "      <th>Sepal.Width</th>\n",
       "      <th>Petal.Length</th>\n",
       "      <th>Petal.Width</th>\n",
       "      <th>Species</th>\n",
       "    </tr>\n",
       "  </thead>\n",
       "  <tbody>\n",
       "    <tr>\n",
       "      <th>0</th>\n",
       "      <td>5.1</td>\n",
       "      <td>3.5</td>\n",
       "      <td>1.4</td>\n",
       "      <td>0.2</td>\n",
       "      <td>setosa</td>\n",
       "    </tr>\n",
       "    <tr>\n",
       "      <th>1</th>\n",
       "      <td>4.9</td>\n",
       "      <td>3.0</td>\n",
       "      <td>1.4</td>\n",
       "      <td>0.2</td>\n",
       "      <td>setosa</td>\n",
       "    </tr>\n",
       "    <tr>\n",
       "      <th>2</th>\n",
       "      <td>4.7</td>\n",
       "      <td>3.2</td>\n",
       "      <td>1.3</td>\n",
       "      <td>0.2</td>\n",
       "      <td>setosa</td>\n",
       "    </tr>\n",
       "    <tr>\n",
       "      <th>3</th>\n",
       "      <td>4.6</td>\n",
       "      <td>3.1</td>\n",
       "      <td>1.5</td>\n",
       "      <td>0.2</td>\n",
       "      <td>setosa</td>\n",
       "    </tr>\n",
       "    <tr>\n",
       "      <th>4</th>\n",
       "      <td>5.0</td>\n",
       "      <td>3.6</td>\n",
       "      <td>1.4</td>\n",
       "      <td>0.2</td>\n",
       "      <td>setosa</td>\n",
       "    </tr>\n",
       "  </tbody>\n",
       "</table>\n",
       "</div>"
      ],
      "text/plain": [
       "   Sepal.Length  Sepal.Width  Petal.Length  Petal.Width Species\n",
       "0           5.1          3.5           1.4          0.2  setosa\n",
       "1           4.9          3.0           1.4          0.2  setosa\n",
       "2           4.7          3.2           1.3          0.2  setosa\n",
       "3           4.6          3.1           1.5          0.2  setosa\n",
       "4           5.0          3.6           1.4          0.2  setosa"
      ]
     },
     "execution_count": 2,
     "metadata": {},
     "output_type": "execute_result"
    }
   ],
   "source": [
    "iris = pd.read_csv(r'C:\\Users\\surya\\Downloads\\iris.csv')\n",
    "iris.head()"
   ]
  },
  {
   "cell_type": "code",
   "execution_count": 4,
   "metadata": {
    "colab": {
     "base_uri": "https://localhost:8080/"
    },
    "executionInfo": {
     "elapsed": 402,
     "status": "ok",
     "timestamp": 1684893813010,
     "user": {
      "displayName": "Study Corner",
      "userId": "13108580649617945811"
     },
     "user_tz": -330
    },
    "id": "k6ycWwfAz_Y-",
    "outputId": "d1f0c7e7-ccba-446b-fa1f-eac4e49a9ef5"
   },
   "outputs": [
    {
     "data": {
      "text/plain": [
       "Index(['Sepal.Length', 'Sepal.Width', 'Petal.Length', 'Petal.Width',\n",
       "       'Species'],\n",
       "      dtype='object')"
      ]
     },
     "execution_count": 4,
     "metadata": {},
     "output_type": "execute_result"
    }
   ],
   "source": [
    "iris.columns"
   ]
  },
  {
   "cell_type": "code",
   "execution_count": 5,
   "metadata": {
    "colab": {
     "base_uri": "https://localhost:8080/"
    },
    "executionInfo": {
     "elapsed": 416,
     "status": "ok",
     "timestamp": 1684893817627,
     "user": {
      "displayName": "Study Corner",
      "userId": "13108580649617945811"
     },
     "user_tz": -330
    },
    "id": "8MGYA-_Q0DSZ",
    "outputId": "761c180e-be85-410a-d5e7-2845cb3b795b"
   },
   "outputs": [
    {
     "data": {
      "text/plain": [
       "['Sepal.Length', 'Sepal.Width', 'Petal.Length', 'Petal.Width', 'Species']"
      ]
     },
     "execution_count": 5,
     "metadata": {},
     "output_type": "execute_result"
    }
   ],
   "source": [
    "colnames = list(iris.columns)\n",
    "colnames"
   ]
  },
  {
   "cell_type": "code",
   "execution_count": 6,
   "metadata": {
    "colab": {
     "base_uri": "https://localhost:8080/"
    },
    "executionInfo": {
     "elapsed": 395,
     "status": "ok",
     "timestamp": 1684893838035,
     "user": {
      "displayName": "Study Corner",
      "userId": "13108580649617945811"
     },
     "user_tz": -330
    },
    "id": "E28opiH30YGY",
    "outputId": "048d80fc-8ed4-4645-fe23-b18663a04967"
   },
   "outputs": [
    {
     "data": {
      "text/plain": [
       "['Sepal.Length', 'Sepal.Width', 'Petal.Length', 'Petal.Width']"
      ]
     },
     "execution_count": 6,
     "metadata": {},
     "output_type": "execute_result"
    }
   ],
   "source": [
    "predictors = colnames[:4]\n",
    "predictors"
   ]
  },
  {
   "cell_type": "code",
   "execution_count": 8,
   "metadata": {
    "colab": {
     "base_uri": "https://localhost:8080/",
     "height": 35
    },
    "executionInfo": {
     "elapsed": 913,
     "status": "ok",
     "timestamp": 1684893858466,
     "user": {
      "displayName": "Study Corner",
      "userId": "13108580649617945811"
     },
     "user_tz": -330
    },
    "id": "5ATSq3Vk0rod",
    "outputId": "0153bf7a-122f-491c-e3e5-8a4887794650"
   },
   "outputs": [
    {
     "data": {
      "text/plain": [
       "'Species'"
      ]
     },
     "execution_count": 8,
     "metadata": {},
     "output_type": "execute_result"
    }
   ],
   "source": [
    "target = colnames[4]\n",
    "target"
   ]
  },
  {
   "cell_type": "code",
   "execution_count": 9,
   "metadata": {
    "colab": {
     "base_uri": "https://localhost:8080/",
     "height": 485
    },
    "executionInfo": {
     "elapsed": 1047,
     "status": "ok",
     "timestamp": 1684893865705,
     "user": {
      "displayName": "Study Corner",
      "userId": "13108580649617945811"
     },
     "user_tz": -330
    },
    "id": "3swvOMzG04r4",
    "outputId": "b3b6c13a-eb14-4af4-8d20-31973823270c"
   },
   "outputs": [
    {
     "data": {
      "text/html": [
       "<div>\n",
       "<style scoped>\n",
       "    .dataframe tbody tr th:only-of-type {\n",
       "        vertical-align: middle;\n",
       "    }\n",
       "\n",
       "    .dataframe tbody tr th {\n",
       "        vertical-align: top;\n",
       "    }\n",
       "\n",
       "    .dataframe thead th {\n",
       "        text-align: right;\n",
       "    }\n",
       "</style>\n",
       "<table border=\"1\" class=\"dataframe\">\n",
       "  <thead>\n",
       "    <tr style=\"text-align: right;\">\n",
       "      <th></th>\n",
       "      <th>Sepal.Length</th>\n",
       "      <th>Sepal.Width</th>\n",
       "      <th>Petal.Length</th>\n",
       "      <th>Petal.Width</th>\n",
       "    </tr>\n",
       "  </thead>\n",
       "  <tbody>\n",
       "    <tr>\n",
       "      <th>0</th>\n",
       "      <td>5.1</td>\n",
       "      <td>3.5</td>\n",
       "      <td>1.4</td>\n",
       "      <td>0.2</td>\n",
       "    </tr>\n",
       "    <tr>\n",
       "      <th>1</th>\n",
       "      <td>4.9</td>\n",
       "      <td>3.0</td>\n",
       "      <td>1.4</td>\n",
       "      <td>0.2</td>\n",
       "    </tr>\n",
       "    <tr>\n",
       "      <th>2</th>\n",
       "      <td>4.7</td>\n",
       "      <td>3.2</td>\n",
       "      <td>1.3</td>\n",
       "      <td>0.2</td>\n",
       "    </tr>\n",
       "    <tr>\n",
       "      <th>3</th>\n",
       "      <td>4.6</td>\n",
       "      <td>3.1</td>\n",
       "      <td>1.5</td>\n",
       "      <td>0.2</td>\n",
       "    </tr>\n",
       "    <tr>\n",
       "      <th>4</th>\n",
       "      <td>5.0</td>\n",
       "      <td>3.6</td>\n",
       "      <td>1.4</td>\n",
       "      <td>0.2</td>\n",
       "    </tr>\n",
       "    <tr>\n",
       "      <th>...</th>\n",
       "      <td>...</td>\n",
       "      <td>...</td>\n",
       "      <td>...</td>\n",
       "      <td>...</td>\n",
       "    </tr>\n",
       "    <tr>\n",
       "      <th>145</th>\n",
       "      <td>6.7</td>\n",
       "      <td>3.0</td>\n",
       "      <td>5.2</td>\n",
       "      <td>2.3</td>\n",
       "    </tr>\n",
       "    <tr>\n",
       "      <th>146</th>\n",
       "      <td>6.3</td>\n",
       "      <td>2.5</td>\n",
       "      <td>5.0</td>\n",
       "      <td>1.9</td>\n",
       "    </tr>\n",
       "    <tr>\n",
       "      <th>147</th>\n",
       "      <td>6.5</td>\n",
       "      <td>3.0</td>\n",
       "      <td>5.2</td>\n",
       "      <td>2.0</td>\n",
       "    </tr>\n",
       "    <tr>\n",
       "      <th>148</th>\n",
       "      <td>6.2</td>\n",
       "      <td>3.4</td>\n",
       "      <td>5.4</td>\n",
       "      <td>2.3</td>\n",
       "    </tr>\n",
       "    <tr>\n",
       "      <th>149</th>\n",
       "      <td>5.9</td>\n",
       "      <td>3.0</td>\n",
       "      <td>5.1</td>\n",
       "      <td>1.8</td>\n",
       "    </tr>\n",
       "  </tbody>\n",
       "</table>\n",
       "<p>150 rows × 4 columns</p>\n",
       "</div>"
      ],
      "text/plain": [
       "     Sepal.Length  Sepal.Width  Petal.Length  Petal.Width\n",
       "0             5.1          3.5           1.4          0.2\n",
       "1             4.9          3.0           1.4          0.2\n",
       "2             4.7          3.2           1.3          0.2\n",
       "3             4.6          3.1           1.5          0.2\n",
       "4             5.0          3.6           1.4          0.2\n",
       "..            ...          ...           ...          ...\n",
       "145           6.7          3.0           5.2          2.3\n",
       "146           6.3          2.5           5.0          1.9\n",
       "147           6.5          3.0           5.2          2.0\n",
       "148           6.2          3.4           5.4          2.3\n",
       "149           5.9          3.0           5.1          1.8\n",
       "\n",
       "[150 rows x 4 columns]"
      ]
     },
     "execution_count": 9,
     "metadata": {},
     "output_type": "execute_result"
    }
   ],
   "source": [
    "X = iris[predictors]\n",
    "X"
   ]
  },
  {
   "cell_type": "code",
   "execution_count": 10,
   "metadata": {
    "colab": {
     "base_uri": "https://localhost:8080/"
    },
    "executionInfo": {
     "elapsed": 529,
     "status": "ok",
     "timestamp": 1684893876459,
     "user": {
      "displayName": "Study Corner",
      "userId": "13108580649617945811"
     },
     "user_tz": -330
    },
    "id": "9SbEpt1-1D6X",
    "outputId": "5c22ef1f-1d68-4a9c-d2ce-0a0db53e9c5f"
   },
   "outputs": [
    {
     "data": {
      "text/plain": [
       "0         setosa\n",
       "1         setosa\n",
       "2         setosa\n",
       "3         setosa\n",
       "4         setosa\n",
       "         ...    \n",
       "145    virginica\n",
       "146    virginica\n",
       "147    virginica\n",
       "148    virginica\n",
       "149    virginica\n",
       "Name: Species, Length: 150, dtype: object"
      ]
     },
     "execution_count": 10,
     "metadata": {},
     "output_type": "execute_result"
    }
   ],
   "source": [
    "Y = iris[target]\n",
    "Y"
   ]
  },
  {
   "cell_type": "code",
   "execution_count": 11,
   "metadata": {
    "executionInfo": {
     "elapsed": 1933,
     "status": "ok",
     "timestamp": 1684893886275,
     "user": {
      "displayName": "Study Corner",
      "userId": "13108580649617945811"
     },
     "user_tz": -330
    },
    "id": "R6iIw3Dv1J3d"
   },
   "outputs": [],
   "source": [
    "from sklearn.ensemble import RandomForestClassifier"
   ]
  },
  {
   "cell_type": "code",
   "execution_count": null,
   "metadata": {
    "colab": {
     "base_uri": "https://localhost:8080/"
    },
    "executionInfo": {
     "elapsed": 5,
     "status": "ok",
     "timestamp": 1668944471455,
     "user": {
      "displayName": "Study Corner",
      "userId": "13108580649617945811"
     },
     "user_tz": -330
    },
    "id": "g5fGgJe711vU",
    "outputId": "a44de0d5-88ca-46b8-98ef-50db2ab9834f"
   },
   "outputs": [
    {
     "name": "stdout",
     "output_type": "stream",
     "text": [
      "Help on class RandomForestClassifier in module sklearn.ensemble._forest:\n",
      "\n",
      "class RandomForestClassifier(ForestClassifier)\n",
      " |  RandomForestClassifier(n_estimators=100, *, criterion='gini', max_depth=None, min_samples_split=2, min_samples_leaf=1, min_weight_fraction_leaf=0.0, max_features='auto', max_leaf_nodes=None, min_impurity_decrease=0.0, bootstrap=True, oob_score=False, n_jobs=None, random_state=None, verbose=0, warm_start=False, class_weight=None, ccp_alpha=0.0, max_samples=None)\n",
      " |  \n",
      " |  A random forest classifier.\n",
      " |  \n",
      " |  A random forest is a meta estimator that fits a number of decision tree\n",
      " |  classifiers on various sub-samples of the dataset and uses averaging to\n",
      " |  improve the predictive accuracy and control over-fitting.\n",
      " |  The sub-sample size is controlled with the `max_samples` parameter if\n",
      " |  `bootstrap=True` (default), otherwise the whole dataset is used to build\n",
      " |  each tree.\n",
      " |  \n",
      " |  Read more in the :ref:`User Guide <forest>`.\n",
      " |  \n",
      " |  Parameters\n",
      " |  ----------\n",
      " |  n_estimators : int, default=100\n",
      " |      The number of trees in the forest.\n",
      " |  \n",
      " |      .. versionchanged:: 0.22\n",
      " |         The default value of ``n_estimators`` changed from 10 to 100\n",
      " |         in 0.22.\n",
      " |  \n",
      " |  criterion : {\"gini\", \"entropy\"}, default=\"gini\"\n",
      " |      The function to measure the quality of a split. Supported criteria are\n",
      " |      \"gini\" for the Gini impurity and \"entropy\" for the information gain.\n",
      " |      Note: this parameter is tree-specific.\n",
      " |  \n",
      " |  max_depth : int, default=None\n",
      " |      The maximum depth of the tree. If None, then nodes are expanded until\n",
      " |      all leaves are pure or until all leaves contain less than\n",
      " |      min_samples_split samples.\n",
      " |  \n",
      " |  min_samples_split : int or float, default=2\n",
      " |      The minimum number of samples required to split an internal node:\n",
      " |  \n",
      " |      - If int, then consider `min_samples_split` as the minimum number.\n",
      " |      - If float, then `min_samples_split` is a fraction and\n",
      " |        `ceil(min_samples_split * n_samples)` are the minimum\n",
      " |        number of samples for each split.\n",
      " |  \n",
      " |      .. versionchanged:: 0.18\n",
      " |         Added float values for fractions.\n",
      " |  \n",
      " |  min_samples_leaf : int or float, default=1\n",
      " |      The minimum number of samples required to be at a leaf node.\n",
      " |      A split point at any depth will only be considered if it leaves at\n",
      " |      least ``min_samples_leaf`` training samples in each of the left and\n",
      " |      right branches.  This may have the effect of smoothing the model,\n",
      " |      especially in regression.\n",
      " |  \n",
      " |      - If int, then consider `min_samples_leaf` as the minimum number.\n",
      " |      - If float, then `min_samples_leaf` is a fraction and\n",
      " |        `ceil(min_samples_leaf * n_samples)` are the minimum\n",
      " |        number of samples for each node.\n",
      " |  \n",
      " |      .. versionchanged:: 0.18\n",
      " |         Added float values for fractions.\n",
      " |  \n",
      " |  min_weight_fraction_leaf : float, default=0.0\n",
      " |      The minimum weighted fraction of the sum total of weights (of all\n",
      " |      the input samples) required to be at a leaf node. Samples have\n",
      " |      equal weight when sample_weight is not provided.\n",
      " |  \n",
      " |  max_features : {\"auto\", \"sqrt\", \"log2\"}, int or float, default=\"auto\"\n",
      " |      The number of features to consider when looking for the best split:\n",
      " |  \n",
      " |      - If int, then consider `max_features` features at each split.\n",
      " |      - If float, then `max_features` is a fraction and\n",
      " |        `round(max_features * n_features)` features are considered at each\n",
      " |        split.\n",
      " |      - If \"auto\", then `max_features=sqrt(n_features)`.\n",
      " |      - If \"sqrt\", then `max_features=sqrt(n_features)` (same as \"auto\").\n",
      " |      - If \"log2\", then `max_features=log2(n_features)`.\n",
      " |      - If None, then `max_features=n_features`.\n",
      " |  \n",
      " |      Note: the search for a split does not stop until at least one\n",
      " |      valid partition of the node samples is found, even if it requires to\n",
      " |      effectively inspect more than ``max_features`` features.\n",
      " |  \n",
      " |  max_leaf_nodes : int, default=None\n",
      " |      Grow trees with ``max_leaf_nodes`` in best-first fashion.\n",
      " |      Best nodes are defined as relative reduction in impurity.\n",
      " |      If None then unlimited number of leaf nodes.\n",
      " |  \n",
      " |  min_impurity_decrease : float, default=0.0\n",
      " |      A node will be split if this split induces a decrease of the impurity\n",
      " |      greater than or equal to this value.\n",
      " |  \n",
      " |      The weighted impurity decrease equation is the following::\n",
      " |  \n",
      " |          N_t / N * (impurity - N_t_R / N_t * right_impurity\n",
      " |                              - N_t_L / N_t * left_impurity)\n",
      " |  \n",
      " |      where ``N`` is the total number of samples, ``N_t`` is the number of\n",
      " |      samples at the current node, ``N_t_L`` is the number of samples in the\n",
      " |      left child, and ``N_t_R`` is the number of samples in the right child.\n",
      " |  \n",
      " |      ``N``, ``N_t``, ``N_t_R`` and ``N_t_L`` all refer to the weighted sum,\n",
      " |      if ``sample_weight`` is passed.\n",
      " |  \n",
      " |      .. versionadded:: 0.19\n",
      " |  \n",
      " |  bootstrap : bool, default=True\n",
      " |      Whether bootstrap samples are used when building trees. If False, the\n",
      " |      whole dataset is used to build each tree.\n",
      " |  \n",
      " |  oob_score : bool, default=False\n",
      " |      Whether to use out-of-bag samples to estimate the generalization score.\n",
      " |      Only available if bootstrap=True.\n",
      " |  \n",
      " |  n_jobs : int, default=None\n",
      " |      The number of jobs to run in parallel. :meth:`fit`, :meth:`predict`,\n",
      " |      :meth:`decision_path` and :meth:`apply` are all parallelized over the\n",
      " |      trees. ``None`` means 1 unless in a :obj:`joblib.parallel_backend`\n",
      " |      context. ``-1`` means using all processors. See :term:`Glossary\n",
      " |      <n_jobs>` for more details.\n",
      " |  \n",
      " |  random_state : int, RandomState instance or None, default=None\n",
      " |      Controls both the randomness of the bootstrapping of the samples used\n",
      " |      when building trees (if ``bootstrap=True``) and the sampling of the\n",
      " |      features to consider when looking for the best split at each node\n",
      " |      (if ``max_features < n_features``).\n",
      " |      See :term:`Glossary <random_state>` for details.\n",
      " |  \n",
      " |  verbose : int, default=0\n",
      " |      Controls the verbosity when fitting and predicting.\n",
      " |  \n",
      " |  warm_start : bool, default=False\n",
      " |      When set to ``True``, reuse the solution of the previous call to fit\n",
      " |      and add more estimators to the ensemble, otherwise, just fit a whole\n",
      " |      new forest. See :term:`the Glossary <warm_start>`.\n",
      " |  \n",
      " |  class_weight : {\"balanced\", \"balanced_subsample\"}, dict or list of dicts,             default=None\n",
      " |      Weights associated with classes in the form ``{class_label: weight}``.\n",
      " |      If not given, all classes are supposed to have weight one. For\n",
      " |      multi-output problems, a list of dicts can be provided in the same\n",
      " |      order as the columns of y.\n",
      " |  \n",
      " |      Note that for multioutput (including multilabel) weights should be\n",
      " |      defined for each class of every column in its own dict. For example,\n",
      " |      for four-class multilabel classification weights should be\n",
      " |      [{0: 1, 1: 1}, {0: 1, 1: 5}, {0: 1, 1: 1}, {0: 1, 1: 1}] instead of\n",
      " |      [{1:1}, {2:5}, {3:1}, {4:1}].\n",
      " |  \n",
      " |      The \"balanced\" mode uses the values of y to automatically adjust\n",
      " |      weights inversely proportional to class frequencies in the input data\n",
      " |      as ``n_samples / (n_classes * np.bincount(y))``\n",
      " |  \n",
      " |      The \"balanced_subsample\" mode is the same as \"balanced\" except that\n",
      " |      weights are computed based on the bootstrap sample for every tree\n",
      " |      grown.\n",
      " |  \n",
      " |      For multi-output, the weights of each column of y will be multiplied.\n",
      " |  \n",
      " |      Note that these weights will be multiplied with sample_weight (passed\n",
      " |      through the fit method) if sample_weight is specified.\n",
      " |  \n",
      " |  ccp_alpha : non-negative float, default=0.0\n",
      " |      Complexity parameter used for Minimal Cost-Complexity Pruning. The\n",
      " |      subtree with the largest cost complexity that is smaller than\n",
      " |      ``ccp_alpha`` will be chosen. By default, no pruning is performed. See\n",
      " |      :ref:`minimal_cost_complexity_pruning` for details.\n",
      " |  \n",
      " |      .. versionadded:: 0.22\n",
      " |  \n",
      " |  max_samples : int or float, default=None\n",
      " |      If bootstrap is True, the number of samples to draw from X\n",
      " |      to train each base estimator.\n",
      " |  \n",
      " |      - If None (default), then draw `X.shape[0]` samples.\n",
      " |      - If int, then draw `max_samples` samples.\n",
      " |      - If float, then draw `max_samples * X.shape[0]` samples. Thus,\n",
      " |        `max_samples` should be in the interval `(0.0, 1.0]`.\n",
      " |  \n",
      " |      .. versionadded:: 0.22\n",
      " |  \n",
      " |  Attributes\n",
      " |  ----------\n",
      " |  base_estimator_ : DecisionTreeClassifier\n",
      " |      The child estimator template used to create the collection of fitted\n",
      " |      sub-estimators.\n",
      " |  \n",
      " |  estimators_ : list of DecisionTreeClassifier\n",
      " |      The collection of fitted sub-estimators.\n",
      " |  \n",
      " |  classes_ : ndarray of shape (n_classes,) or a list of such arrays\n",
      " |      The classes labels (single output problem), or a list of arrays of\n",
      " |      class labels (multi-output problem).\n",
      " |  \n",
      " |  n_classes_ : int or list\n",
      " |      The number of classes (single output problem), or a list containing the\n",
      " |      number of classes for each output (multi-output problem).\n",
      " |  \n",
      " |  n_features_ : int\n",
      " |      The number of features when ``fit`` is performed.\n",
      " |  \n",
      " |      .. deprecated:: 1.0\n",
      " |          Attribute `n_features_` was deprecated in version 1.0 and will be\n",
      " |          removed in 1.2. Use `n_features_in_` instead.\n",
      " |  \n",
      " |  n_features_in_ : int\n",
      " |      Number of features seen during :term:`fit`.\n",
      " |  \n",
      " |      .. versionadded:: 0.24\n",
      " |  \n",
      " |  feature_names_in_ : ndarray of shape (`n_features_in_`,)\n",
      " |      Names of features seen during :term:`fit`. Defined only when `X`\n",
      " |      has feature names that are all strings.\n",
      " |  \n",
      " |      .. versionadded:: 1.0\n",
      " |  \n",
      " |  n_outputs_ : int\n",
      " |      The number of outputs when ``fit`` is performed.\n",
      " |  \n",
      " |  feature_importances_ : ndarray of shape (n_features,)\n",
      " |      The impurity-based feature importances.\n",
      " |      The higher, the more important the feature.\n",
      " |      The importance of a feature is computed as the (normalized)\n",
      " |      total reduction of the criterion brought by that feature.  It is also\n",
      " |      known as the Gini importance.\n",
      " |  \n",
      " |      Warning: impurity-based feature importances can be misleading for\n",
      " |      high cardinality features (many unique values). See\n",
      " |      :func:`sklearn.inspection.permutation_importance` as an alternative.\n",
      " |  \n",
      " |  oob_score_ : float\n",
      " |      Score of the training dataset obtained using an out-of-bag estimate.\n",
      " |      This attribute exists only when ``oob_score`` is True.\n",
      " |  \n",
      " |  oob_decision_function_ : ndarray of shape (n_samples, n_classes) or             (n_samples, n_classes, n_outputs)\n",
      " |      Decision function computed with out-of-bag estimate on the training\n",
      " |      set. If n_estimators is small it might be possible that a data point\n",
      " |      was never left out during the bootstrap. In this case,\n",
      " |      `oob_decision_function_` might contain NaN. This attribute exists\n",
      " |      only when ``oob_score`` is True.\n",
      " |  \n",
      " |  See Also\n",
      " |  --------\n",
      " |  sklearn.tree.DecisionTreeClassifier : A decision tree classifier.\n",
      " |  sklearn.ensemble.ExtraTreesClassifier : Ensemble of extremely randomized\n",
      " |      tree classifiers.\n",
      " |  \n",
      " |  Notes\n",
      " |  -----\n",
      " |  The default values for the parameters controlling the size of the trees\n",
      " |  (e.g. ``max_depth``, ``min_samples_leaf``, etc.) lead to fully grown and\n",
      " |  unpruned trees which can potentially be very large on some data sets. To\n",
      " |  reduce memory consumption, the complexity and size of the trees should be\n",
      " |  controlled by setting those parameter values.\n",
      " |  \n",
      " |  The features are always randomly permuted at each split. Therefore,\n",
      " |  the best found split may vary, even with the same training data,\n",
      " |  ``max_features=n_features`` and ``bootstrap=False``, if the improvement\n",
      " |  of the criterion is identical for several splits enumerated during the\n",
      " |  search of the best split. To obtain a deterministic behaviour during\n",
      " |  fitting, ``random_state`` has to be fixed.\n",
      " |  \n",
      " |  References\n",
      " |  ----------\n",
      " |  .. [1] L. Breiman, \"Random Forests\", Machine Learning, 45(1), 5-32, 2001.\n",
      " |  \n",
      " |  Examples\n",
      " |  --------\n",
      " |  >>> from sklearn.ensemble import RandomForestClassifier\n",
      " |  >>> from sklearn.datasets import make_classification\n",
      " |  >>> X, y = make_classification(n_samples=1000, n_features=4,\n",
      " |  ...                            n_informative=2, n_redundant=0,\n",
      " |  ...                            random_state=0, shuffle=False)\n",
      " |  >>> clf = RandomForestClassifier(max_depth=2, random_state=0)\n",
      " |  >>> clf.fit(X, y)\n",
      " |  RandomForestClassifier(...)\n",
      " |  >>> print(clf.predict([[0, 0, 0, 0]]))\n",
      " |  [1]\n",
      " |  \n",
      " |  Method resolution order:\n",
      " |      RandomForestClassifier\n",
      " |      ForestClassifier\n",
      " |      sklearn.base.ClassifierMixin\n",
      " |      BaseForest\n",
      " |      sklearn.base.MultiOutputMixin\n",
      " |      sklearn.ensemble._base.BaseEnsemble\n",
      " |      sklearn.base.MetaEstimatorMixin\n",
      " |      sklearn.base.BaseEstimator\n",
      " |      builtins.object\n",
      " |  \n",
      " |  Methods defined here:\n",
      " |  \n",
      " |  __init__(self, n_estimators=100, *, criterion='gini', max_depth=None, min_samples_split=2, min_samples_leaf=1, min_weight_fraction_leaf=0.0, max_features='auto', max_leaf_nodes=None, min_impurity_decrease=0.0, bootstrap=True, oob_score=False, n_jobs=None, random_state=None, verbose=0, warm_start=False, class_weight=None, ccp_alpha=0.0, max_samples=None)\n",
      " |      Initialize self.  See help(type(self)) for accurate signature.\n",
      " |  \n",
      " |  ----------------------------------------------------------------------\n",
      " |  Data and other attributes defined here:\n",
      " |  \n",
      " |  __abstractmethods__ = frozenset()\n",
      " |  \n",
      " |  ----------------------------------------------------------------------\n",
      " |  Methods inherited from ForestClassifier:\n",
      " |  \n",
      " |  predict(self, X)\n",
      " |      Predict class for X.\n",
      " |      \n",
      " |      The predicted class of an input sample is a vote by the trees in\n",
      " |      the forest, weighted by their probability estimates. That is,\n",
      " |      the predicted class is the one with highest mean probability\n",
      " |      estimate across the trees.\n",
      " |      \n",
      " |      Parameters\n",
      " |      ----------\n",
      " |      X : {array-like, sparse matrix} of shape (n_samples, n_features)\n",
      " |          The input samples. Internally, its dtype will be converted to\n",
      " |          ``dtype=np.float32``. If a sparse matrix is provided, it will be\n",
      " |          converted into a sparse ``csr_matrix``.\n",
      " |      \n",
      " |      Returns\n",
      " |      -------\n",
      " |      y : ndarray of shape (n_samples,) or (n_samples, n_outputs)\n",
      " |          The predicted classes.\n",
      " |  \n",
      " |  predict_log_proba(self, X)\n",
      " |      Predict class log-probabilities for X.\n",
      " |      \n",
      " |      The predicted class log-probabilities of an input sample is computed as\n",
      " |      the log of the mean predicted class probabilities of the trees in the\n",
      " |      forest.\n",
      " |      \n",
      " |      Parameters\n",
      " |      ----------\n",
      " |      X : {array-like, sparse matrix} of shape (n_samples, n_features)\n",
      " |          The input samples. Internally, its dtype will be converted to\n",
      " |          ``dtype=np.float32``. If a sparse matrix is provided, it will be\n",
      " |          converted into a sparse ``csr_matrix``.\n",
      " |      \n",
      " |      Returns\n",
      " |      -------\n",
      " |      p : ndarray of shape (n_samples, n_classes), or a list of such arrays\n",
      " |          The class probabilities of the input samples. The order of the\n",
      " |          classes corresponds to that in the attribute :term:`classes_`.\n",
      " |  \n",
      " |  predict_proba(self, X)\n",
      " |      Predict class probabilities for X.\n",
      " |      \n",
      " |      The predicted class probabilities of an input sample are computed as\n",
      " |      the mean predicted class probabilities of the trees in the forest.\n",
      " |      The class probability of a single tree is the fraction of samples of\n",
      " |      the same class in a leaf.\n",
      " |      \n",
      " |      Parameters\n",
      " |      ----------\n",
      " |      X : {array-like, sparse matrix} of shape (n_samples, n_features)\n",
      " |          The input samples. Internally, its dtype will be converted to\n",
      " |          ``dtype=np.float32``. If a sparse matrix is provided, it will be\n",
      " |          converted into a sparse ``csr_matrix``.\n",
      " |      \n",
      " |      Returns\n",
      " |      -------\n",
      " |      p : ndarray of shape (n_samples, n_classes), or a list of such arrays\n",
      " |          The class probabilities of the input samples. The order of the\n",
      " |          classes corresponds to that in the attribute :term:`classes_`.\n",
      " |  \n",
      " |  ----------------------------------------------------------------------\n",
      " |  Methods inherited from sklearn.base.ClassifierMixin:\n",
      " |  \n",
      " |  score(self, X, y, sample_weight=None)\n",
      " |      Return the mean accuracy on the given test data and labels.\n",
      " |      \n",
      " |      In multi-label classification, this is the subset accuracy\n",
      " |      which is a harsh metric since you require for each sample that\n",
      " |      each label set be correctly predicted.\n",
      " |      \n",
      " |      Parameters\n",
      " |      ----------\n",
      " |      X : array-like of shape (n_samples, n_features)\n",
      " |          Test samples.\n",
      " |      \n",
      " |      y : array-like of shape (n_samples,) or (n_samples, n_outputs)\n",
      " |          True labels for `X`.\n",
      " |      \n",
      " |      sample_weight : array-like of shape (n_samples,), default=None\n",
      " |          Sample weights.\n",
      " |      \n",
      " |      Returns\n",
      " |      -------\n",
      " |      score : float\n",
      " |          Mean accuracy of ``self.predict(X)`` wrt. `y`.\n",
      " |  \n",
      " |  ----------------------------------------------------------------------\n",
      " |  Data descriptors inherited from sklearn.base.ClassifierMixin:\n",
      " |  \n",
      " |  __dict__\n",
      " |      dictionary for instance variables (if defined)\n",
      " |  \n",
      " |  __weakref__\n",
      " |      list of weak references to the object (if defined)\n",
      " |  \n",
      " |  ----------------------------------------------------------------------\n",
      " |  Methods inherited from BaseForest:\n",
      " |  \n",
      " |  apply(self, X)\n",
      " |      Apply trees in the forest to X, return leaf indices.\n",
      " |      \n",
      " |      Parameters\n",
      " |      ----------\n",
      " |      X : {array-like, sparse matrix} of shape (n_samples, n_features)\n",
      " |          The input samples. Internally, its dtype will be converted to\n",
      " |          ``dtype=np.float32``. If a sparse matrix is provided, it will be\n",
      " |          converted into a sparse ``csr_matrix``.\n",
      " |      \n",
      " |      Returns\n",
      " |      -------\n",
      " |      X_leaves : ndarray of shape (n_samples, n_estimators)\n",
      " |          For each datapoint x in X and for each tree in the forest,\n",
      " |          return the index of the leaf x ends up in.\n",
      " |  \n",
      " |  decision_path(self, X)\n",
      " |      Return the decision path in the forest.\n",
      " |      \n",
      " |      .. versionadded:: 0.18\n",
      " |      \n",
      " |      Parameters\n",
      " |      ----------\n",
      " |      X : {array-like, sparse matrix} of shape (n_samples, n_features)\n",
      " |          The input samples. Internally, its dtype will be converted to\n",
      " |          ``dtype=np.float32``. If a sparse matrix is provided, it will be\n",
      " |          converted into a sparse ``csr_matrix``.\n",
      " |      \n",
      " |      Returns\n",
      " |      -------\n",
      " |      indicator : sparse matrix of shape (n_samples, n_nodes)\n",
      " |          Return a node indicator matrix where non zero elements indicates\n",
      " |          that the samples goes through the nodes. The matrix is of CSR\n",
      " |          format.\n",
      " |      \n",
      " |      n_nodes_ptr : ndarray of shape (n_estimators + 1,)\n",
      " |          The columns from indicator[n_nodes_ptr[i]:n_nodes_ptr[i+1]]\n",
      " |          gives the indicator value for the i-th estimator.\n",
      " |  \n",
      " |  fit(self, X, y, sample_weight=None)\n",
      " |      Build a forest of trees from the training set (X, y).\n",
      " |      \n",
      " |      Parameters\n",
      " |      ----------\n",
      " |      X : {array-like, sparse matrix} of shape (n_samples, n_features)\n",
      " |          The training input samples. Internally, its dtype will be converted\n",
      " |          to ``dtype=np.float32``. If a sparse matrix is provided, it will be\n",
      " |          converted into a sparse ``csc_matrix``.\n",
      " |      \n",
      " |      y : array-like of shape (n_samples,) or (n_samples, n_outputs)\n",
      " |          The target values (class labels in classification, real numbers in\n",
      " |          regression).\n",
      " |      \n",
      " |      sample_weight : array-like of shape (n_samples,), default=None\n",
      " |          Sample weights. If None, then samples are equally weighted. Splits\n",
      " |          that would create child nodes with net zero or negative weight are\n",
      " |          ignored while searching for a split in each node. In the case of\n",
      " |          classification, splits are also ignored if they would result in any\n",
      " |          single class carrying a negative weight in either child node.\n",
      " |      \n",
      " |      Returns\n",
      " |      -------\n",
      " |      self : object\n",
      " |          Fitted estimator.\n",
      " |  \n",
      " |  ----------------------------------------------------------------------\n",
      " |  Data descriptors inherited from BaseForest:\n",
      " |  \n",
      " |  feature_importances_\n",
      " |      The impurity-based feature importances.\n",
      " |      \n",
      " |      The higher, the more important the feature.\n",
      " |      The importance of a feature is computed as the (normalized)\n",
      " |      total reduction of the criterion brought by that feature.  It is also\n",
      " |      known as the Gini importance.\n",
      " |      \n",
      " |      Warning: impurity-based feature importances can be misleading for\n",
      " |      high cardinality features (many unique values). See\n",
      " |      :func:`sklearn.inspection.permutation_importance` as an alternative.\n",
      " |      \n",
      " |      Returns\n",
      " |      -------\n",
      " |      feature_importances_ : ndarray of shape (n_features,)\n",
      " |          The values of this array sum to 1, unless all trees are single node\n",
      " |          trees consisting of only the root node, in which case it will be an\n",
      " |          array of zeros.\n",
      " |  \n",
      " |  n_features_\n",
      " |      DEPRECATED: Attribute `n_features_` was deprecated in version 1.0 and will be removed in 1.2. Use `n_features_in_` instead.\n",
      " |      \n",
      " |      Number of features when fitting the estimator.\n",
      " |  \n",
      " |  ----------------------------------------------------------------------\n",
      " |  Methods inherited from sklearn.ensemble._base.BaseEnsemble:\n",
      " |  \n",
      " |  __getitem__(self, index)\n",
      " |      Return the index'th estimator in the ensemble.\n",
      " |  \n",
      " |  __iter__(self)\n",
      " |      Return iterator over estimators in the ensemble.\n",
      " |  \n",
      " |  __len__(self)\n",
      " |      Return the number of estimators in the ensemble.\n",
      " |  \n",
      " |  ----------------------------------------------------------------------\n",
      " |  Data and other attributes inherited from sklearn.ensemble._base.BaseEnsemble:\n",
      " |  \n",
      " |  __annotations__ = {'_required_parameters': typing.List[str]}\n",
      " |  \n",
      " |  ----------------------------------------------------------------------\n",
      " |  Methods inherited from sklearn.base.BaseEstimator:\n",
      " |  \n",
      " |  __getstate__(self)\n",
      " |  \n",
      " |  __repr__(self, N_CHAR_MAX=700)\n",
      " |      Return repr(self).\n",
      " |  \n",
      " |  __setstate__(self, state)\n",
      " |  \n",
      " |  get_params(self, deep=True)\n",
      " |      Get parameters for this estimator.\n",
      " |      \n",
      " |      Parameters\n",
      " |      ----------\n",
      " |      deep : bool, default=True\n",
      " |          If True, will return the parameters for this estimator and\n",
      " |          contained subobjects that are estimators.\n",
      " |      \n",
      " |      Returns\n",
      " |      -------\n",
      " |      params : dict\n",
      " |          Parameter names mapped to their values.\n",
      " |  \n",
      " |  set_params(self, **params)\n",
      " |      Set the parameters of this estimator.\n",
      " |      \n",
      " |      The method works on simple estimators as well as on nested objects\n",
      " |      (such as :class:`~sklearn.pipeline.Pipeline`). The latter have\n",
      " |      parameters of the form ``<component>__<parameter>`` so that it's\n",
      " |      possible to update each component of a nested object.\n",
      " |      \n",
      " |      Parameters\n",
      " |      ----------\n",
      " |      **params : dict\n",
      " |          Estimator parameters.\n",
      " |      \n",
      " |      Returns\n",
      " |      -------\n",
      " |      self : estimator instance\n",
      " |          Estimator instance.\n",
      "\n"
     ]
    }
   ],
   "source": [
    "help(RandomForestClassifier)"
   ]
  },
  {
   "cell_type": "code",
   "execution_count": 12,
   "metadata": {
    "executionInfo": {
     "elapsed": 4,
     "status": "ok",
     "timestamp": 1684894543382,
     "user": {
      "displayName": "Study Corner",
      "userId": "13108580649617945811"
     },
     "user_tz": -330
    },
    "id": "13rpYYw96H91"
   },
   "outputs": [],
   "source": [
    "rf = RandomForestClassifier(n_jobs=3,oob_score=True,n_estimators=50,criterion=\"entropy\")"
   ]
  },
  {
   "cell_type": "code",
   "execution_count": 13,
   "metadata": {
    "colab": {
     "base_uri": "https://localhost:8080/"
    },
    "executionInfo": {
     "elapsed": 4,
     "status": "ok",
     "timestamp": 1684894545152,
     "user": {
      "displayName": "Study Corner",
      "userId": "13108580649617945811"
     },
     "user_tz": -330
    },
    "id": "5BY1_4J46cEZ",
    "outputId": "8335819b-b7af-4fcb-c0af-56267b386f10"
   },
   "outputs": [
    {
     "data": {
      "text/plain": [
       "(150, 5)"
      ]
     },
     "execution_count": 13,
     "metadata": {},
     "output_type": "execute_result"
    }
   ],
   "source": [
    "np.shape(iris)"
   ]
  },
  {
   "cell_type": "code",
   "execution_count": 14,
   "metadata": {
    "colab": {
     "base_uri": "https://localhost:8080/",
     "height": 92
    },
    "executionInfo": {
     "elapsed": 861,
     "status": "ok",
     "timestamp": 1684894546956,
     "user": {
      "displayName": "Study Corner",
      "userId": "13108580649617945811"
     },
     "user_tz": -330
    },
    "id": "vrlkd3mx6hco",
    "outputId": "9a87855b-36f5-4779-c5cf-15ce7c8ddc4b"
   },
   "outputs": [
    {
     "data": {
      "text/plain": [
       "RandomForestClassifier(criterion='entropy', n_estimators=50, n_jobs=3,\n",
       "                       oob_score=True)"
      ]
     },
     "execution_count": 14,
     "metadata": {},
     "output_type": "execute_result"
    }
   ],
   "source": [
    "rf.fit(X,Y)"
   ]
  },
  {
   "cell_type": "code",
   "execution_count": 15,
   "metadata": {
    "colab": {
     "base_uri": "https://localhost:8080/"
    },
    "executionInfo": {
     "elapsed": 8,
     "status": "ok",
     "timestamp": 1684894548011,
     "user": {
      "displayName": "Study Corner",
      "userId": "13108580649617945811"
     },
     "user_tz": -330
    },
    "id": "QGceLXw-6yJy",
    "outputId": "4ce413e4-8e7e-4a3e-c11d-77cdbb19a790"
   },
   "outputs": [
    {
     "data": {
      "text/plain": [
       "[DecisionTreeClassifier(criterion='entropy', max_features='auto',\n",
       "                        random_state=810922108),\n",
       " DecisionTreeClassifier(criterion='entropy', max_features='auto',\n",
       "                        random_state=733606953),\n",
       " DecisionTreeClassifier(criterion='entropy', max_features='auto',\n",
       "                        random_state=1961072841),\n",
       " DecisionTreeClassifier(criterion='entropy', max_features='auto',\n",
       "                        random_state=1273902702),\n",
       " DecisionTreeClassifier(criterion='entropy', max_features='auto',\n",
       "                        random_state=1025839909),\n",
       " DecisionTreeClassifier(criterion='entropy', max_features='auto',\n",
       "                        random_state=1903163993),\n",
       " DecisionTreeClassifier(criterion='entropy', max_features='auto',\n",
       "                        random_state=125753024),\n",
       " DecisionTreeClassifier(criterion='entropy', max_features='auto',\n",
       "                        random_state=1269445083),\n",
       " DecisionTreeClassifier(criterion='entropy', max_features='auto',\n",
       "                        random_state=187426688),\n",
       " DecisionTreeClassifier(criterion='entropy', max_features='auto',\n",
       "                        random_state=1021465488),\n",
       " DecisionTreeClassifier(criterion='entropy', max_features='auto',\n",
       "                        random_state=1664931622),\n",
       " DecisionTreeClassifier(criterion='entropy', max_features='auto',\n",
       "                        random_state=1406272722),\n",
       " DecisionTreeClassifier(criterion='entropy', max_features='auto',\n",
       "                        random_state=506951412),\n",
       " DecisionTreeClassifier(criterion='entropy', max_features='auto',\n",
       "                        random_state=234707884),\n",
       " DecisionTreeClassifier(criterion='entropy', max_features='auto',\n",
       "                        random_state=1271429620),\n",
       " DecisionTreeClassifier(criterion='entropy', max_features='auto',\n",
       "                        random_state=249521570),\n",
       " DecisionTreeClassifier(criterion='entropy', max_features='auto',\n",
       "                        random_state=912970819),\n",
       " DecisionTreeClassifier(criterion='entropy', max_features='auto',\n",
       "                        random_state=18509285),\n",
       " DecisionTreeClassifier(criterion='entropy', max_features='auto',\n",
       "                        random_state=1917371560),\n",
       " DecisionTreeClassifier(criterion='entropy', max_features='auto',\n",
       "                        random_state=537490531),\n",
       " DecisionTreeClassifier(criterion='entropy', max_features='auto',\n",
       "                        random_state=1623121107),\n",
       " DecisionTreeClassifier(criterion='entropy', max_features='auto',\n",
       "                        random_state=1793236288),\n",
       " DecisionTreeClassifier(criterion='entropy', max_features='auto',\n",
       "                        random_state=1736290262),\n",
       " DecisionTreeClassifier(criterion='entropy', max_features='auto',\n",
       "                        random_state=372920594),\n",
       " DecisionTreeClassifier(criterion='entropy', max_features='auto',\n",
       "                        random_state=628575342),\n",
       " DecisionTreeClassifier(criterion='entropy', max_features='auto',\n",
       "                        random_state=1392507539),\n",
       " DecisionTreeClassifier(criterion='entropy', max_features='auto',\n",
       "                        random_state=586064574),\n",
       " DecisionTreeClassifier(criterion='entropy', max_features='auto',\n",
       "                        random_state=1745776940),\n",
       " DecisionTreeClassifier(criterion='entropy', max_features='auto',\n",
       "                        random_state=1029154890),\n",
       " DecisionTreeClassifier(criterion='entropy', max_features='auto',\n",
       "                        random_state=291251223),\n",
       " DecisionTreeClassifier(criterion='entropy', max_features='auto',\n",
       "                        random_state=2077614393),\n",
       " DecisionTreeClassifier(criterion='entropy', max_features='auto',\n",
       "                        random_state=1218069065),\n",
       " DecisionTreeClassifier(criterion='entropy', max_features='auto',\n",
       "                        random_state=851389216),\n",
       " DecisionTreeClassifier(criterion='entropy', max_features='auto',\n",
       "                        random_state=826014622),\n",
       " DecisionTreeClassifier(criterion='entropy', max_features='auto',\n",
       "                        random_state=1096964089),\n",
       " DecisionTreeClassifier(criterion='entropy', max_features='auto',\n",
       "                        random_state=904643647),\n",
       " DecisionTreeClassifier(criterion='entropy', max_features='auto',\n",
       "                        random_state=633169135),\n",
       " DecisionTreeClassifier(criterion='entropy', max_features='auto',\n",
       "                        random_state=333620263),\n",
       " DecisionTreeClassifier(criterion='entropy', max_features='auto',\n",
       "                        random_state=1410798995),\n",
       " DecisionTreeClassifier(criterion='entropy', max_features='auto',\n",
       "                        random_state=1026034483),\n",
       " DecisionTreeClassifier(criterion='entropy', max_features='auto',\n",
       "                        random_state=922981062),\n",
       " DecisionTreeClassifier(criterion='entropy', max_features='auto',\n",
       "                        random_state=771958531),\n",
       " DecisionTreeClassifier(criterion='entropy', max_features='auto',\n",
       "                        random_state=126387085),\n",
       " DecisionTreeClassifier(criterion='entropy', max_features='auto',\n",
       "                        random_state=1193232707),\n",
       " DecisionTreeClassifier(criterion='entropy', max_features='auto',\n",
       "                        random_state=1023240781),\n",
       " DecisionTreeClassifier(criterion='entropy', max_features='auto',\n",
       "                        random_state=352572616),\n",
       " DecisionTreeClassifier(criterion='entropy', max_features='auto',\n",
       "                        random_state=912490644),\n",
       " DecisionTreeClassifier(criterion='entropy', max_features='auto',\n",
       "                        random_state=486142368),\n",
       " DecisionTreeClassifier(criterion='entropy', max_features='auto',\n",
       "                        random_state=1612402876),\n",
       " DecisionTreeClassifier(criterion='entropy', max_features='auto',\n",
       "                        random_state=2047842172)]"
      ]
     },
     "execution_count": 15,
     "metadata": {},
     "output_type": "execute_result"
    }
   ],
   "source": [
    "rf.estimators_"
   ]
  },
  {
   "cell_type": "code",
   "execution_count": 16,
   "metadata": {
    "colab": {
     "base_uri": "https://localhost:8080/"
    },
    "executionInfo": {
     "elapsed": 646,
     "status": "ok",
     "timestamp": 1684894551950,
     "user": {
      "displayName": "Study Corner",
      "userId": "13108580649617945811"
     },
     "user_tz": -330
    },
    "id": "k492p9CO7AcZ",
    "outputId": "a01d1f2b-5b43-4d8a-e283-71df7c24d42d"
   },
   "outputs": [
    {
     "data": {
      "text/plain": [
       "50"
      ]
     },
     "execution_count": 16,
     "metadata": {},
     "output_type": "execute_result"
    }
   ],
   "source": [
    "len(list(rf.estimators_))"
   ]
  },
  {
   "cell_type": "code",
   "execution_count": 17,
   "metadata": {
    "colab": {
     "base_uri": "https://localhost:8080/"
    },
    "executionInfo": {
     "elapsed": 646,
     "status": "ok",
     "timestamp": 1684894553124,
     "user": {
      "displayName": "Study Corner",
      "userId": "13108580649617945811"
     },
     "user_tz": -330
    },
    "id": "IeyyTqhU7QEB",
    "outputId": "94c9d66c-9ce7-403b-9f00-1b221908258d"
   },
   "outputs": [
    {
     "data": {
      "text/plain": [
       "array(['setosa', 'versicolor', 'virginica'], dtype=object)"
      ]
     },
     "execution_count": 17,
     "metadata": {},
     "output_type": "execute_result"
    }
   ],
   "source": [
    "rf.classes_"
   ]
  },
  {
   "cell_type": "code",
   "execution_count": 18,
   "metadata": {
    "colab": {
     "base_uri": "https://localhost:8080/"
    },
    "executionInfo": {
     "elapsed": 3,
     "status": "ok",
     "timestamp": 1684894554849,
     "user": {
      "displayName": "Study Corner",
      "userId": "13108580649617945811"
     },
     "user_tz": -330
    },
    "id": "VW76pQnl7Wy0",
    "outputId": "a2e6bfe7-dc16-414f-b0fe-9426f3936a91"
   },
   "outputs": [
    {
     "data": {
      "text/plain": [
       "3"
      ]
     },
     "execution_count": 18,
     "metadata": {},
     "output_type": "execute_result"
    }
   ],
   "source": [
    "len(list(rf.classes_))"
   ]
  },
  {
   "cell_type": "code",
   "execution_count": 19,
   "metadata": {
    "colab": {
     "base_uri": "https://localhost:8080/"
    },
    "executionInfo": {
     "elapsed": 6,
     "status": "ok",
     "timestamp": 1684894556690,
     "user": {
      "displayName": "Study Corner",
      "userId": "13108580649617945811"
     },
     "user_tz": -330
    },
    "id": "a8DOy89f7b-g",
    "outputId": "7d07a6cf-3c00-4f8d-bd6e-20fc4b637af9"
   },
   "outputs": [
    {
     "data": {
      "text/plain": [
       "3"
      ]
     },
     "execution_count": 19,
     "metadata": {},
     "output_type": "execute_result"
    }
   ],
   "source": [
    "rf.n_classes_"
   ]
  },
  {
   "cell_type": "code",
   "execution_count": 20,
   "metadata": {
    "colab": {
     "base_uri": "https://localhost:8080/"
    },
    "executionInfo": {
     "elapsed": 403,
     "status": "ok",
     "timestamp": 1684894566282,
     "user": {
      "displayName": "Study Corner",
      "userId": "13108580649617945811"
     },
     "user_tz": -330
    },
    "id": "zbDTvpt17tr7",
    "outputId": "fb0710d7-45f0-4e95-eba5-241f3a4a0faf"
   },
   "outputs": [
    {
     "data": {
      "text/plain": [
       "1"
      ]
     },
     "execution_count": 20,
     "metadata": {},
     "output_type": "execute_result"
    }
   ],
   "source": [
    "rf.n_outputs_"
   ]
  },
  {
   "cell_type": "code",
   "execution_count": 21,
   "metadata": {
    "colab": {
     "base_uri": "https://localhost:8080/"
    },
    "executionInfo": {
     "elapsed": 383,
     "status": "ok",
     "timestamp": 1684894574295,
     "user": {
      "displayName": "Study Corner",
      "userId": "13108580649617945811"
     },
     "user_tz": -330
    },
    "id": "gDhBays871EV",
    "outputId": "11a9d159-a24c-47d5-fb61-29ecc191d47c"
   },
   "outputs": [
    {
     "data": {
      "text/plain": [
       "0.9466666666666667"
      ]
     },
     "execution_count": 21,
     "metadata": {},
     "output_type": "execute_result"
    }
   ],
   "source": [
    "rf.oob_score_"
   ]
  },
  {
   "cell_type": "code",
   "execution_count": 22,
   "metadata": {
    "colab": {
     "base_uri": "https://localhost:8080/"
    },
    "executionInfo": {
     "elapsed": 373,
     "status": "ok",
     "timestamp": 1684894581709,
     "user": {
      "displayName": "Study Corner",
      "userId": "13108580649617945811"
     },
     "user_tz": -330
    },
    "id": "SHtGKRXt8GFC",
    "outputId": "d85f13da-217b-4866-b06e-990455728030"
   },
   "outputs": [
    {
     "data": {
      "text/plain": [
       "array(['setosa', 'setosa', 'setosa', 'setosa', 'setosa', 'setosa',\n",
       "       'setosa', 'setosa', 'setosa', 'setosa', 'setosa', 'setosa',\n",
       "       'setosa', 'setosa', 'setosa', 'setosa', 'setosa', 'setosa',\n",
       "       'setosa', 'setosa', 'setosa', 'setosa', 'setosa', 'setosa',\n",
       "       'setosa', 'setosa', 'setosa', 'setosa', 'setosa', 'setosa',\n",
       "       'setosa', 'setosa', 'setosa', 'setosa', 'setosa', 'setosa',\n",
       "       'setosa', 'setosa', 'setosa', 'setosa', 'setosa', 'setosa',\n",
       "       'setosa', 'setosa', 'setosa', 'setosa', 'setosa', 'setosa',\n",
       "       'setosa', 'setosa', 'versicolor', 'versicolor', 'versicolor',\n",
       "       'versicolor', 'versicolor', 'versicolor', 'versicolor',\n",
       "       'versicolor', 'versicolor', 'versicolor', 'versicolor',\n",
       "       'versicolor', 'versicolor', 'versicolor', 'versicolor',\n",
       "       'versicolor', 'versicolor', 'versicolor', 'versicolor',\n",
       "       'versicolor', 'versicolor', 'versicolor', 'versicolor',\n",
       "       'versicolor', 'versicolor', 'versicolor', 'versicolor',\n",
       "       'versicolor', 'versicolor', 'versicolor', 'versicolor',\n",
       "       'versicolor', 'versicolor', 'versicolor', 'versicolor',\n",
       "       'versicolor', 'versicolor', 'versicolor', 'versicolor',\n",
       "       'versicolor', 'versicolor', 'versicolor', 'versicolor',\n",
       "       'versicolor', 'versicolor', 'versicolor', 'versicolor',\n",
       "       'versicolor', 'versicolor', 'versicolor', 'virginica', 'virginica',\n",
       "       'virginica', 'virginica', 'virginica', 'virginica', 'virginica',\n",
       "       'virginica', 'virginica', 'virginica', 'virginica', 'virginica',\n",
       "       'virginica', 'virginica', 'virginica', 'virginica', 'virginica',\n",
       "       'virginica', 'virginica', 'virginica', 'virginica', 'virginica',\n",
       "       'virginica', 'virginica', 'virginica', 'virginica', 'virginica',\n",
       "       'virginica', 'virginica', 'virginica', 'virginica', 'virginica',\n",
       "       'virginica', 'virginica', 'virginica', 'virginica', 'virginica',\n",
       "       'virginica', 'virginica', 'virginica', 'virginica', 'virginica',\n",
       "       'virginica', 'virginica', 'virginica', 'virginica', 'virginica',\n",
       "       'virginica', 'virginica', 'virginica'], dtype=object)"
      ]
     },
     "execution_count": 22,
     "metadata": {},
     "output_type": "execute_result"
    }
   ],
   "source": [
    "rf.predict(X)"
   ]
  },
  {
   "cell_type": "code",
   "execution_count": 23,
   "metadata": {
    "colab": {
     "base_uri": "https://localhost:8080/"
    },
    "executionInfo": {
     "elapsed": 402,
     "status": "ok",
     "timestamp": 1684894619239,
     "user": {
      "displayName": "Study Corner",
      "userId": "13108580649617945811"
     },
     "user_tz": -330
    },
    "id": "TAYEu6fs8Q0I",
    "outputId": "8c010631-f315-4e6e-a195-8abd81423801"
   },
   "outputs": [
    {
     "data": {
      "text/plain": [
       "0         setosa\n",
       "1         setosa\n",
       "2         setosa\n",
       "3         setosa\n",
       "4         setosa\n",
       "         ...    \n",
       "145    virginica\n",
       "146    virginica\n",
       "147    virginica\n",
       "148    virginica\n",
       "149    virginica\n",
       "Name: rf_pred, Length: 150, dtype: object"
      ]
     },
     "execution_count": 23,
     "metadata": {},
     "output_type": "execute_result"
    }
   ],
   "source": [
    "iris['rf_pred'] = rf.predict(X)\n",
    "iris['rf_pred']"
   ]
  },
  {
   "cell_type": "code",
   "execution_count": 24,
   "metadata": {
    "colab": {
     "base_uri": "https://localhost:8080/"
    },
    "executionInfo": {
     "elapsed": 379,
     "status": "ok",
     "timestamp": 1684894630501,
     "user": {
      "displayName": "Study Corner",
      "userId": "13108580649617945811"
     },
     "user_tz": -330
    },
    "id": "w5vqgCPf8gXK",
    "outputId": "79b23e03-2498-440b-e348-893df218f32f"
   },
   "outputs": [
    {
     "data": {
      "text/plain": [
       "['rf_pred', 'Species']"
      ]
     },
     "execution_count": 24,
     "metadata": {},
     "output_type": "execute_result"
    }
   ],
   "source": [
    "cols = ['rf_pred','Species']\n",
    "cols"
   ]
  },
  {
   "cell_type": "code",
   "execution_count": 25,
   "metadata": {
    "colab": {
     "base_uri": "https://localhost:8080/"
    },
    "executionInfo": {
     "elapsed": 5,
     "status": "ok",
     "timestamp": 1684894633658,
     "user": {
      "displayName": "Study Corner",
      "userId": "13108580649617945811"
     },
     "user_tz": -330
    },
    "id": "mqVuOLaX8rVR",
    "outputId": "40fddfcc-1ce8-4385-e976-2bc77a15b790"
   },
   "outputs": [
    {
     "data": {
      "text/plain": [
       "0         setosa\n",
       "1         setosa\n",
       "2         setosa\n",
       "3         setosa\n",
       "4         setosa\n",
       "         ...    \n",
       "145    virginica\n",
       "146    virginica\n",
       "147    virginica\n",
       "148    virginica\n",
       "149    virginica\n",
       "Name: Species, Length: 150, dtype: object"
      ]
     },
     "execution_count": 25,
     "metadata": {},
     "output_type": "execute_result"
    }
   ],
   "source": [
    "iris[\"Species\"]"
   ]
  },
  {
   "cell_type": "code",
   "execution_count": 26,
   "metadata": {
    "colab": {
     "base_uri": "https://localhost:8080/",
     "height": 206
    },
    "executionInfo": {
     "elapsed": 421,
     "status": "ok",
     "timestamp": 1684894637218,
     "user": {
      "displayName": "Study Corner",
      "userId": "13108580649617945811"
     },
     "user_tz": -330
    },
    "id": "oaTbetcf9yAl",
    "outputId": "35cdff05-e799-473b-abda-6310410516b8"
   },
   "outputs": [
    {
     "data": {
      "text/html": [
       "<div>\n",
       "<style scoped>\n",
       "    .dataframe tbody tr th:only-of-type {\n",
       "        vertical-align: middle;\n",
       "    }\n",
       "\n",
       "    .dataframe tbody tr th {\n",
       "        vertical-align: top;\n",
       "    }\n",
       "\n",
       "    .dataframe thead th {\n",
       "        text-align: right;\n",
       "    }\n",
       "</style>\n",
       "<table border=\"1\" class=\"dataframe\">\n",
       "  <thead>\n",
       "    <tr style=\"text-align: right;\">\n",
       "      <th></th>\n",
       "      <th>rf_pred</th>\n",
       "      <th>Species</th>\n",
       "    </tr>\n",
       "  </thead>\n",
       "  <tbody>\n",
       "    <tr>\n",
       "      <th>0</th>\n",
       "      <td>setosa</td>\n",
       "      <td>setosa</td>\n",
       "    </tr>\n",
       "    <tr>\n",
       "      <th>1</th>\n",
       "      <td>setosa</td>\n",
       "      <td>setosa</td>\n",
       "    </tr>\n",
       "    <tr>\n",
       "      <th>2</th>\n",
       "      <td>setosa</td>\n",
       "      <td>setosa</td>\n",
       "    </tr>\n",
       "    <tr>\n",
       "      <th>3</th>\n",
       "      <td>setosa</td>\n",
       "      <td>setosa</td>\n",
       "    </tr>\n",
       "    <tr>\n",
       "      <th>4</th>\n",
       "      <td>setosa</td>\n",
       "      <td>setosa</td>\n",
       "    </tr>\n",
       "  </tbody>\n",
       "</table>\n",
       "</div>"
      ],
      "text/plain": [
       "  rf_pred Species\n",
       "0  setosa  setosa\n",
       "1  setosa  setosa\n",
       "2  setosa  setosa\n",
       "3  setosa  setosa\n",
       "4  setosa  setosa"
      ]
     },
     "execution_count": 26,
     "metadata": {},
     "output_type": "execute_result"
    }
   ],
   "source": [
    "iris[cols].head()"
   ]
  },
  {
   "cell_type": "code",
   "execution_count": 27,
   "metadata": {
    "colab": {
     "base_uri": "https://localhost:8080/",
     "height": 424
    },
    "executionInfo": {
     "elapsed": 793,
     "status": "ok",
     "timestamp": 1684894649481,
     "user": {
      "displayName": "Study Corner",
      "userId": "13108580649617945811"
     },
     "user_tz": -330
    },
    "id": "14SmLkBK98Rg",
    "outputId": "85243412-d226-4b06-bb42-91d95ab4098b"
   },
   "outputs": [
    {
     "data": {
      "text/html": [
       "<div>\n",
       "<style scoped>\n",
       "    .dataframe tbody tr th:only-of-type {\n",
       "        vertical-align: middle;\n",
       "    }\n",
       "\n",
       "    .dataframe tbody tr th {\n",
       "        vertical-align: top;\n",
       "    }\n",
       "\n",
       "    .dataframe thead th {\n",
       "        text-align: right;\n",
       "    }\n",
       "</style>\n",
       "<table border=\"1\" class=\"dataframe\">\n",
       "  <thead>\n",
       "    <tr style=\"text-align: right;\">\n",
       "      <th></th>\n",
       "      <th>rf_pred</th>\n",
       "      <th>Species</th>\n",
       "    </tr>\n",
       "  </thead>\n",
       "  <tbody>\n",
       "    <tr>\n",
       "      <th>0</th>\n",
       "      <td>setosa</td>\n",
       "      <td>setosa</td>\n",
       "    </tr>\n",
       "    <tr>\n",
       "      <th>1</th>\n",
       "      <td>setosa</td>\n",
       "      <td>setosa</td>\n",
       "    </tr>\n",
       "    <tr>\n",
       "      <th>2</th>\n",
       "      <td>setosa</td>\n",
       "      <td>setosa</td>\n",
       "    </tr>\n",
       "    <tr>\n",
       "      <th>3</th>\n",
       "      <td>setosa</td>\n",
       "      <td>setosa</td>\n",
       "    </tr>\n",
       "    <tr>\n",
       "      <th>4</th>\n",
       "      <td>setosa</td>\n",
       "      <td>setosa</td>\n",
       "    </tr>\n",
       "    <tr>\n",
       "      <th>...</th>\n",
       "      <td>...</td>\n",
       "      <td>...</td>\n",
       "    </tr>\n",
       "    <tr>\n",
       "      <th>145</th>\n",
       "      <td>virginica</td>\n",
       "      <td>virginica</td>\n",
       "    </tr>\n",
       "    <tr>\n",
       "      <th>146</th>\n",
       "      <td>virginica</td>\n",
       "      <td>virginica</td>\n",
       "    </tr>\n",
       "    <tr>\n",
       "      <th>147</th>\n",
       "      <td>virginica</td>\n",
       "      <td>virginica</td>\n",
       "    </tr>\n",
       "    <tr>\n",
       "      <th>148</th>\n",
       "      <td>virginica</td>\n",
       "      <td>virginica</td>\n",
       "    </tr>\n",
       "    <tr>\n",
       "      <th>149</th>\n",
       "      <td>virginica</td>\n",
       "      <td>virginica</td>\n",
       "    </tr>\n",
       "  </tbody>\n",
       "</table>\n",
       "<p>150 rows × 2 columns</p>\n",
       "</div>"
      ],
      "text/plain": [
       "       rf_pred    Species\n",
       "0       setosa     setosa\n",
       "1       setosa     setosa\n",
       "2       setosa     setosa\n",
       "3       setosa     setosa\n",
       "4       setosa     setosa\n",
       "..         ...        ...\n",
       "145  virginica  virginica\n",
       "146  virginica  virginica\n",
       "147  virginica  virginica\n",
       "148  virginica  virginica\n",
       "149  virginica  virginica\n",
       "\n",
       "[150 rows x 2 columns]"
      ]
     },
     "execution_count": 27,
     "metadata": {},
     "output_type": "execute_result"
    }
   ],
   "source": [
    "iris[cols]"
   ]
  },
  {
   "cell_type": "code",
   "execution_count": 28,
   "metadata": {
    "executionInfo": {
     "elapsed": 4,
     "status": "ok",
     "timestamp": 1684894659091,
     "user": {
      "displayName": "Study Corner",
      "userId": "13108580649617945811"
     },
     "user_tz": -330
    },
    "id": "PLlJK29t-BdN"
   },
   "outputs": [],
   "source": [
    "from sklearn.metrics import confusion_matrix,accuracy_score"
   ]
  },
  {
   "cell_type": "code",
   "execution_count": 29,
   "metadata": {
    "colab": {
     "base_uri": "https://localhost:8080/"
    },
    "executionInfo": {
     "elapsed": 4,
     "status": "ok",
     "timestamp": 1684894661214,
     "user": {
      "displayName": "Study Corner",
      "userId": "13108580649617945811"
     },
     "user_tz": -330
    },
    "id": "oYsqdo7R-OGj",
    "outputId": "d845de24-7188-4d1b-c8a9-b163820db3b5"
   },
   "outputs": [
    {
     "data": {
      "text/plain": [
       "array([[50,  0,  0],\n",
       "       [ 0, 50,  0],\n",
       "       [ 0,  0, 50]], dtype=int64)"
      ]
     },
     "execution_count": 29,
     "metadata": {},
     "output_type": "execute_result"
    }
   ],
   "source": [
    "confusion_matrix(iris['Species'],iris['rf_pred'])"
   ]
  },
  {
   "cell_type": "code",
   "execution_count": 31,
   "metadata": {
    "colab": {
     "base_uri": "https://localhost:8080/"
    },
    "executionInfo": {
     "elapsed": 387,
     "status": "ok",
     "timestamp": 1684894678118,
     "user": {
      "displayName": "Study Corner",
      "userId": "13108580649617945811"
     },
     "user_tz": -330
    },
    "id": "FrpSyvNd-ot3",
    "outputId": "220e9254-6731-4f3e-c95f-fbad9873ba13"
   },
   "outputs": [
    {
     "data": {
      "text/plain": [
       "1.0"
      ]
     },
     "execution_count": 31,
     "metadata": {},
     "output_type": "execute_result"
    }
   ],
   "source": [
    "accuracy_score(iris['Species'],iris['rf_pred'])\n"
   ]
  },
  {
   "cell_type": "markdown",
   "metadata": {
    "id": "VS2-Y79LCROD"
   },
   "source": [
    "**Boosting**"
   ]
  },
  {
   "cell_type": "code",
   "execution_count": 32,
   "metadata": {
    "id": "c2SyNMtMCUVZ"
   },
   "outputs": [],
   "source": [
    "from sklearn.ensemble import AdaBoostClassifier"
   ]
  },
  {
   "cell_type": "code",
   "execution_count": 33,
   "metadata": {
    "id": "_RnejSKxCbCs"
   },
   "outputs": [],
   "source": [
    "from sklearn.model_selection import cross_val_score"
   ]
  },
  {
   "cell_type": "code",
   "execution_count": 34,
   "metadata": {
    "id": "VMapXDQJCiN2"
   },
   "outputs": [],
   "source": [
    "clf = AdaBoostClassifier(n_estimators=100)"
   ]
  },
  {
   "cell_type": "code",
   "execution_count": 35,
   "metadata": {
    "colab": {
     "base_uri": "https://localhost:8080/"
    },
    "executionInfo": {
     "elapsed": 620,
     "status": "ok",
     "timestamp": 1669467934715,
     "user": {
      "displayName": "Study Corner",
      "userId": "13108580649617945811"
     },
     "user_tz": -330
    },
    "id": "_pNUyTmJCoT9",
    "outputId": "41519cb6-dfaf-4ba1-9dac-88ecd8f2fb6b"
   },
   "outputs": [
    {
     "data": {
      "text/plain": [
       "AdaBoostClassifier(n_estimators=100)"
      ]
     },
     "execution_count": 35,
     "metadata": {},
     "output_type": "execute_result"
    }
   ],
   "source": [
    "clf.fit(X,Y)"
   ]
  },
  {
   "cell_type": "code",
   "execution_count": 36,
   "metadata": {
    "colab": {
     "base_uri": "https://localhost:8080/"
    },
    "executionInfo": {
     "elapsed": 363,
     "status": "ok",
     "timestamp": 1669467964688,
     "user": {
      "displayName": "Study Corner",
      "userId": "13108580649617945811"
     },
     "user_tz": -330
    },
    "id": "R1BAlorOCxfW",
    "outputId": "a40c885f-2d5e-4064-90e9-5d6b174bb8ab"
   },
   "outputs": [
    {
     "data": {
      "text/plain": [
       "array(['setosa', 'setosa', 'setosa', 'setosa', 'setosa', 'setosa',\n",
       "       'setosa', 'setosa', 'setosa', 'setosa', 'setosa', 'setosa',\n",
       "       'setosa', 'setosa', 'setosa', 'setosa', 'setosa', 'setosa',\n",
       "       'setosa', 'setosa', 'setosa', 'setosa', 'setosa', 'setosa',\n",
       "       'setosa', 'setosa', 'setosa', 'setosa', 'setosa', 'setosa',\n",
       "       'setosa', 'setosa', 'setosa', 'setosa', 'setosa', 'setosa',\n",
       "       'setosa', 'setosa', 'setosa', 'setosa', 'setosa', 'setosa',\n",
       "       'setosa', 'setosa', 'setosa', 'setosa', 'setosa', 'setosa',\n",
       "       'setosa', 'setosa', 'versicolor', 'versicolor', 'versicolor',\n",
       "       'versicolor', 'versicolor', 'versicolor', 'versicolor',\n",
       "       'versicolor', 'versicolor', 'versicolor', 'versicolor',\n",
       "       'versicolor', 'versicolor', 'versicolor', 'versicolor',\n",
       "       'versicolor', 'versicolor', 'versicolor', 'versicolor',\n",
       "       'versicolor', 'virginica', 'versicolor', 'versicolor',\n",
       "       'versicolor', 'versicolor', 'versicolor', 'versicolor',\n",
       "       'virginica', 'versicolor', 'versicolor', 'versicolor',\n",
       "       'versicolor', 'versicolor', 'virginica', 'versicolor',\n",
       "       'versicolor', 'versicolor', 'versicolor', 'versicolor',\n",
       "       'versicolor', 'versicolor', 'versicolor', 'versicolor',\n",
       "       'versicolor', 'versicolor', 'versicolor', 'versicolor',\n",
       "       'versicolor', 'versicolor', 'versicolor', 'virginica', 'virginica',\n",
       "       'virginica', 'virginica', 'virginica', 'virginica', 'versicolor',\n",
       "       'virginica', 'virginica', 'virginica', 'virginica', 'virginica',\n",
       "       'virginica', 'virginica', 'virginica', 'virginica', 'virginica',\n",
       "       'virginica', 'virginica', 'virginica', 'virginica', 'virginica',\n",
       "       'virginica', 'virginica', 'virginica', 'virginica', 'virginica',\n",
       "       'virginica', 'virginica', 'virginica', 'virginica', 'virginica',\n",
       "       'virginica', 'virginica', 'virginica', 'virginica', 'virginica',\n",
       "       'virginica', 'virginica', 'virginica', 'virginica', 'virginica',\n",
       "       'virginica', 'virginica', 'virginica', 'virginica', 'virginica',\n",
       "       'virginica', 'virginica', 'virginica'], dtype=object)"
      ]
     },
     "execution_count": 36,
     "metadata": {},
     "output_type": "execute_result"
    }
   ],
   "source": [
    "pred = clf.predict(X)\n",
    "pred"
   ]
  },
  {
   "cell_type": "code",
   "execution_count": 37,
   "metadata": {
    "colab": {
     "base_uri": "https://localhost:8080/"
    },
    "executionInfo": {
     "elapsed": 5,
     "status": "ok",
     "timestamp": 1669467982596,
     "user": {
      "displayName": "Study Corner",
      "userId": "13108580649617945811"
     },
     "user_tz": -330
    },
    "id": "ur8vcX7fC5Uj",
    "outputId": "545bcf12-2ed7-42cd-ff45-3c7ed83bd56f"
   },
   "outputs": [
    {
     "data": {
      "text/plain": [
       "0.9733333333333334"
      ]
     },
     "execution_count": 37,
     "metadata": {},
     "output_type": "execute_result"
    }
   ],
   "source": [
    "clf.score(X,Y)"
   ]
  },
  {
   "cell_type": "code",
   "execution_count": 40,
   "metadata": {
    "colab": {
     "base_uri": "https://localhost:8080/"
    },
    "executionInfo": {
     "elapsed": 401,
     "status": "ok",
     "timestamp": 1669468039394,
     "user": {
      "displayName": "Study Corner",
      "userId": "13108580649617945811"
     },
     "user_tz": -330
    },
    "id": "XyVTowUbC9MM",
    "outputId": "338e0f68-3216-44bc-8824-c63110118bb0"
   },
   "outputs": [
    {
     "data": {
      "text/plain": [
       "0.9733333333333334"
      ]
     },
     "execution_count": 40,
     "metadata": {},
     "output_type": "execute_result"
    }
   ],
   "source": [
    "accuracy_score(iris['Species'],pred)"
   ]
  },
  {
   "cell_type": "markdown",
   "metadata": {
    "id": "yxcWs2VvDtWE"
   },
   "source": [
    "**Cross Validation**"
   ]
  },
  {
   "cell_type": "code",
   "execution_count": 41,
   "metadata": {
    "id": "AeIqYgeIDv98"
   },
   "outputs": [],
   "source": [
    "clf = AdaBoostClassifier(n_estimators=100)"
   ]
  },
  {
   "cell_type": "code",
   "execution_count": 42,
   "metadata": {
    "id": "YfIbAK38DMvR"
   },
   "outputs": [],
   "source": [
    "scores = cross_val_score(clf,X,Y,cv=5)"
   ]
  },
  {
   "cell_type": "code",
   "execution_count": 43,
   "metadata": {
    "colab": {
     "base_uri": "https://localhost:8080/"
    },
    "executionInfo": {
     "elapsed": 6,
     "status": "ok",
     "timestamp": 1669468715199,
     "user": {
      "displayName": "Study Corner",
      "userId": "13108580649617945811"
     },
     "user_tz": -330
    },
    "id": "PwHgi3l2EMQF",
    "outputId": "53145f88-25e1-45eb-d5f1-9998345bc567"
   },
   "outputs": [
    {
     "data": {
      "text/plain": [
       "array([0.96666667, 0.93333333, 0.93333333, 0.9       , 1.        ])"
      ]
     },
     "execution_count": 43,
     "metadata": {},
     "output_type": "execute_result"
    }
   ],
   "source": [
    "scores"
   ]
  },
  {
   "cell_type": "code",
   "execution_count": 44,
   "metadata": {
    "colab": {
     "base_uri": "https://localhost:8080/"
    },
    "executionInfo": {
     "elapsed": 471,
     "status": "ok",
     "timestamp": 1669468719157,
     "user": {
      "displayName": "Study Corner",
      "userId": "13108580649617945811"
     },
     "user_tz": -330
    },
    "id": "feWyxFnJEgeQ",
    "outputId": "c57f76c5-fe31-4013-a575-336e40510ee5"
   },
   "outputs": [
    {
     "data": {
      "text/plain": [
       "0.9466666666666665"
      ]
     },
     "execution_count": 44,
     "metadata": {},
     "output_type": "execute_result"
    }
   ],
   "source": [
    "scores.mean()"
   ]
  },
  {
   "cell_type": "code",
   "execution_count": null,
   "metadata": {},
   "outputs": [],
   "source": []
  }
 ],
 "metadata": {
  "colab": {
   "authorship_tag": "ABX9TyPkDd9/f/duRWTZ+wJkX0bn",
   "provenance": []
  },
  "kernelspec": {
   "display_name": "Python 3 (ipykernel)",
   "language": "python",
   "name": "python3"
  },
  "language_info": {
   "codemirror_mode": {
    "name": "ipython",
    "version": 3
   },
   "file_extension": ".py",
   "mimetype": "text/x-python",
   "name": "python",
   "nbconvert_exporter": "python",
   "pygments_lexer": "ipython3",
   "version": "3.9.13"
  }
 },
 "nbformat": 4,
 "nbformat_minor": 1
}
